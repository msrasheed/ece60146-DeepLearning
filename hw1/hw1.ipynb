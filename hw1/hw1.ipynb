{
 "cells": [
  {
   "cell_type": "markdown",
   "id": "0b5fe6e8-f6c9-4fd1-b200-5e29362ca5f6",
   "metadata": {},
   "source": [
    "# Programming Tasks\n",
    "\n",
    "## Report/Explanation\n",
    "1. Basically a copy of what was written in the assignment, no change necessary.\n",
    "2. In the second block, created the Fibonacci class as specified. Calls the superclass's constructor to create the array. \n",
    "3. Grows the array as necessary in accordance with a fibonnaci sequence when called.\n",
    "4. Added a __len__ function to Sequence class. Wrote it as a generator for simplicity (don't need to keep track of index).\n",
    "5. The Prime class has 47 prime numbers already \"cached\" within it. If the length is greater than the cached amount, it will find more... hopefully my algorithm is correct, haven't tested it much.\n",
    "6. Implemented the __gt__ function as specified in assignment. Also do a type check for good measure. \n",
    "\n",
    "## Implementation and Output"
   ]
  },
  {
   "cell_type": "code",
   "execution_count": 19,
   "id": "0b3fdd1e-4e53-4bf9-bfb0-5aba2a4b7e8a",
   "metadata": {},
   "outputs": [],
   "source": [
    "class Sequence:\n",
    "    def __init__(self, array):\n",
    "        self.array = array\n",
    "        \n",
    "    def __len__(self):\n",
    "        return len(self.array)\n",
    "    \n",
    "    def __iter__(self):\n",
    "        for item in self.array:\n",
    "            yield item\n",
    "            \n",
    "    def __gt__(self, other):\n",
    "        if not isinstance(other, Sequence):\n",
    "            raise TypeError(f\"{other} is not of type Sequence\")\n",
    "        if len(other) != len(self):\n",
    "            raise ValueError(f\"The sequences being compared do not have the same length: {len(self)} vs {len(other)}\")\n",
    "        num_gt = 0\n",
    "        for item1, item2 in zip(self, other):\n",
    "            if item1 > item2:\n",
    "                num_gt += 1\n",
    "        return num_gt"
   ]
  },
  {
   "cell_type": "code",
   "execution_count": 20,
   "id": "2274e59b-010f-486a-8fbf-61cc82fe0309",
   "metadata": {},
   "outputs": [
    {
     "name": "stdout",
     "output_type": "stream",
     "text": [
      "[1, 2, 3, 5, 8]\n",
      "5\n",
      "[1, 2, 3, 5, 8]\n"
     ]
    }
   ],
   "source": [
    "class Fibonacci(Sequence):\n",
    "    def __init__(self, first_value, second_value):\n",
    "        super().__init__([first_value, second_value])\n",
    "    \n",
    "    def __call__(self, length):\n",
    "        if length > len(self.array):\n",
    "            for i in range(length-len(self.array)):\n",
    "                self.array.append(self.array[-1] + self.array[-2])\n",
    "        else:\n",
    "            self.array = self.array[:length]\n",
    "        print(self.array)\n",
    "        \n",
    "FS = Fibonacci(1 ,2)\n",
    "FS(length=5)\n",
    "\n",
    "print(len(FS))\n",
    "print([n for n in FS])"
   ]
  },
  {
   "cell_type": "code",
   "execution_count": 25,
   "id": "a1ff0cb8-c451-4ca1-b8f1-439669676900",
   "metadata": {},
   "outputs": [
    {
     "name": "stdout",
     "output_type": "stream",
     "text": [
      "[2, 3, 5, 7, 11, 13, 17, 19]\n",
      "8\n",
      "[2, 3, 5, 7, 11, 13, 17, 19]\n"
     ]
    }
   ],
   "source": [
    "class Prime(Sequence):\n",
    "    primes = [2,3,5,7,11,13,17,19,23,29,31,37,41,43,\n",
    "              47,53,59,61,67,71,73,79,83,89,97,101,103,\n",
    "              107,109,113,127,131,137,139,147,151,157,\n",
    "              163,167,173,179,181,191,193,197,199]\n",
    "    def __init__(self):\n",
    "        super().__init__(list())\n",
    "        \n",
    "    def _is_prime(self, num):\n",
    "        def gcd(num1, num2):\n",
    "            if num2 == 1:\n",
    "                return True\n",
    "            elif num2 == 0:\n",
    "                return False\n",
    "            return gcd(num2, num1 % num2)\n",
    "        for i in range(1, num//2, 2):\n",
    "            if not gcd(num, i):\n",
    "                return False\n",
    "        return True\n",
    "        \n",
    "    def __call__(self, length):\n",
    "        if length <= len(self.primes):\n",
    "            self.array = self.primes[:length]\n",
    "        else:\n",
    "            n = self.primes[-1]//6 + 1\n",
    "            while len(self.primes) < length:\n",
    "                if self._is_prime(6*n-1):\n",
    "                    self.primes.append(6*n-1)\n",
    "                if self._is_prime(6*n+1):\n",
    "                    self.primes.append(6*n+1)\n",
    "                n += 1\n",
    "            self.array = self.primes[:length]\n",
    "        print(self.array)\n",
    "                \n",
    "PS = Prime()\n",
    "PS(length=8)\n",
    "print(len(PS))\n",
    "print([n for n in PS])"
   ]
  },
  {
   "cell_type": "code",
   "execution_count": 23,
   "id": "06bcefc3-08c2-4812-8314-7fef8d0370fa",
   "metadata": {},
   "outputs": [
    {
     "name": "stdout",
     "output_type": "stream",
     "text": [
      "[1, 2, 3, 5, 8, 13, 21, 34]\n",
      "[2, 3, 5, 7, 11, 13, 17, 19]\n",
      "2\n"
     ]
    }
   ],
   "source": [
    "FS = Fibonacci(first_value=1, second_value=2)\n",
    "FS(length=8)\n",
    "PS = Prime()\n",
    "PS(length=8)\n",
    "print(FS > PS)"
   ]
  }
 ],
 "metadata": {
  "kernelspec": {
   "display_name": "Python 3 (ipykernel)",
   "language": "python",
   "name": "python3"
  },
  "language_info": {
   "codemirror_mode": {
    "name": "ipython",
    "version": 3
   },
   "file_extension": ".py",
   "mimetype": "text/x-python",
   "name": "python",
   "nbconvert_exporter": "python",
   "pygments_lexer": "ipython3",
   "version": "3.8.10"
  }
 },
 "nbformat": 4,
 "nbformat_minor": 5
}
